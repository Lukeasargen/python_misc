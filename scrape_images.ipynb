{
 "cells": [
  {
   "cell_type": "code",
   "execution_count": null,
   "source": [
    "import os\n",
    "\n",
    "import requests\n",
    "from bs4 import BeautifulSoup\n",
    "import urllib.request"
   ],
   "outputs": [],
   "metadata": {}
  },
  {
   "cell_type": "code",
   "execution_count": null,
   "source": [
    "allowed_filetypes = [\".jpg\", \".jpeg\", \".png\", \".gif\"]\n",
    "\n",
    "def getdata(url):\n",
    "    r = requests.get(url) \n",
    "    return r.text "
   ],
   "outputs": [],
   "metadata": {}
  },
  {
   "cell_type": "code",
   "execution_count": null,
   "source": [
    "def scrape(link):\n",
    "    htmldata = getdata(link) \n",
    "    soup = BeautifulSoup(htmldata, 'html.parser') \n",
    "    image_items = soup.find_all('img')\n",
    "    for idx, item in enumerate(image_items, 1):\n",
    "        src_url = item['src']\n",
    "        _, file_extension = os.path.splitext(src_url)\n",
    "        if file_extension.lower() in allowed_filetypes:\n",
    "            out_path = \"download/\"+os.path.basename(src_url)\n",
    "            image_url = \"https://www.com/\"+src_url\n",
    "            print(f\"\\r{idx} {src_url=}\", end=\"\")\n",
    "            # print(f\"{out_path=}\")\n",
    "            # print(f\"{image_url=}\")\n",
    "            try:\n",
    "                urllib.request.urlretrieve(image_url, out_path)\n",
    "            except Exception as e:\n",
    "                print(f\"\\rERROR - {src_url=} {e}\")"
   ],
   "outputs": [],
   "metadata": {}
  },
  {
   "cell_type": "code",
   "execution_count": null,
   "source": [
    "links =[\n",
    "\n",
    "]"
   ],
   "outputs": [],
   "metadata": {}
  },
  {
   "cell_type": "code",
   "execution_count": null,
   "source": [
    "for link in links:\n",
    "    scrape(link)"
   ],
   "outputs": [],
   "metadata": {}
  },
  {
   "cell_type": "code",
   "execution_count": null,
   "source": [],
   "outputs": [],
   "metadata": {}
  }
 ],
 "metadata": {
  "orig_nbformat": 4,
  "language_info": {
   "name": "python",
   "version": "3.8.5",
   "mimetype": "text/x-python",
   "codemirror_mode": {
    "name": "ipython",
    "version": 3
   },
   "pygments_lexer": "ipython3",
   "nbconvert_exporter": "python",
   "file_extension": ".py"
  },
  "kernelspec": {
   "name": "python3",
   "display_name": "Python 3.8.5 64-bit ('base': conda)"
  },
  "interpreter": {
   "hash": "3e6a8b5eb86d10ae2ba8c91aba584e29afcf2749495396c82a137ef7acae015c"
  }
 },
 "nbformat": 4,
 "nbformat_minor": 2
}